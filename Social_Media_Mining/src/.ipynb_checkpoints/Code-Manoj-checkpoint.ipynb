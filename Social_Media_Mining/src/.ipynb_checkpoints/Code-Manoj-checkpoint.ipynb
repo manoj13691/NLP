{
 "cells": [
  {
   "cell_type": "code",
   "execution_count": 1,
   "metadata": {
    "collapsed": true
   },
   "outputs": [],
   "source": [
    "import pandas as pd"
   ]
  },
  {
   "cell_type": "code",
   "execution_count": 2,
   "metadata": {
    "collapsed": true
   },
   "outputs": [],
   "source": [
    "train_data = pd.read_csv(\"../data/train.csv\", header=0)\n",
    "test_data = pd.read_csv(\"../data/test.csv\", header=0)"
   ]
  },
  {
   "cell_type": "code",
   "execution_count": 3,
   "metadata": {
    "collapsed": true
   },
   "outputs": [],
   "source": [
    "X_train = train_data[\"Tweet\"]\n",
    "Y_train = train_data[\"Category\"]\n",
    "\n",
    "X_test = test_data[\"Tweet\"]\n",
    "Y_test = test_data[\"Category\"]"
   ]
  },
  {
   "cell_type": "code",
   "execution_count": 4,
   "metadata": {},
   "outputs": [
    {
     "name": "stdout",
     "output_type": "stream",
     "text": [
      "(8264, 23239)\n",
      "8264\n"
     ]
    },
    {
     "name": "stderr",
     "output_type": "stream",
     "text": [
      "/home/manoj/anaconda2/lib/python2.7/site-packages/sklearn/feature_extraction/text.py:1059: FutureWarning: Conversion of the second argument of issubdtype from `float` to `np.floating` is deprecated. In future, it will be treated as `np.float64 == np.dtype(float).type`.\n",
      "  if hasattr(X, 'dtype') and np.issubdtype(X.dtype, np.float):\n"
     ]
    }
   ],
   "source": [
    "from sklearn.feature_extraction.text import TfidfVectorizer\n",
    "tv = TfidfVectorizer(min_df=0.0, max_df=0.9, lowercase=True, stop_words=\"english\")\n",
    "vectors = tv.fit_transform(X_train)\n",
    "X_train = vectors.toarray()  \n",
    "print X_train.shape\n",
    "print len(Y_train)"
   ]
  },
  {
   "cell_type": "code",
   "execution_count": 5,
   "metadata": {},
   "outputs": [
    {
     "name": "stdout",
     "output_type": "stream",
     "text": [
      "(2140, 23239)\n"
     ]
    }
   ],
   "source": [
    "vectors_test = tv.transform(X_test)\n",
    "X_test = vectors_test.toarray()\n",
    "print X_test.shape"
   ]
  },
  {
   "cell_type": "code",
   "execution_count": 6,
   "metadata": {},
   "outputs": [
    {
     "data": {
      "text/plain": [
       "LogisticRegression(C=1.0, class_weight=None, dual=False, fit_intercept=True,\n",
       "          intercept_scaling=1, max_iter=100, multi_class='ovr', n_jobs=1,\n",
       "          penalty='l2', random_state=None, solver='liblinear', tol=0.0001,\n",
       "          verbose=0, warm_start=False)"
      ]
     },
     "execution_count": 6,
     "metadata": {},
     "output_type": "execute_result"
    }
   ],
   "source": [
    "#Logistic Regression\n",
    "from sklearn.linear_model import LogisticRegression\n",
    "model = LogisticRegression()\n",
    "model.fit(X_train, Y_train)                                        "
   ]
  },
  {
   "cell_type": "code",
   "execution_count": 7,
   "metadata": {},
   "outputs": [
    {
     "name": "stdout",
     "output_type": "stream",
     "text": [
      "Accuracy:57.0\n",
      "{'Politics': 158, 'Sports': 329, 'Technology': 222, 'Entertainment': 218}\n"
     ]
    }
   ],
   "source": [
    "answers = model.predict(X_test)\n",
    "correct_count = 0.0\n",
    "wrong_ans_dict = {}\n",
    "for i in range(len(answers)):\n",
    "    if Y_test[i]!=answers[i]:\n",
    "        if Y_test[i] not in wrong_ans_dict:\n",
    "            wrong_ans_dict[Y_test[i]] = 1\n",
    "        else:\n",
    "            wrong_ans_dict[Y_test[i]] += 1 \n",
    "    else:\n",
    "        correct_count +=1\n",
    "\n",
    "print \"Accuracy:\"+ str(round(correct_count/len(Y_test),2)*100)       \n",
    "print wrong_ans_dict"
   ]
  },
  {
   "cell_type": "code",
   "execution_count": 15,
   "metadata": {},
   "outputs": [
    {
     "data": {
      "text/plain": [
       "RandomForestClassifier(bootstrap=True, class_weight=None, criterion='gini',\n",
       "            max_depth=None, max_features='auto', max_leaf_nodes=None,\n",
       "            min_impurity_split=1e-07, min_samples_leaf=1,\n",
       "            min_samples_split=2, min_weight_fraction_leaf=0.0,\n",
       "            n_estimators=70, n_jobs=1, oob_score=False, random_state=None,\n",
       "            verbose=0, warm_start=False)"
      ]
     },
     "execution_count": 15,
     "metadata": {},
     "output_type": "execute_result"
    }
   ],
   "source": [
    "from sklearn.ensemble import RandomForestClassifier\n",
    "model = RandomForestClassifier(n_estimators=70)\n",
    "model.fit(X_train,Y_train)"
   ]
  },
  {
   "cell_type": "code",
   "execution_count": 16,
   "metadata": {},
   "outputs": [
    {
     "name": "stdout",
     "output_type": "stream",
     "text": [
      "Accuracy:51.0\n",
      "{'Politics': 227, 'Sports': 335, 'Technology': 311, 'Entertainment': 174}\n"
     ]
    }
   ],
   "source": [
    "answers = model.predict(X_test)\n",
    "correct_count = 0.0\n",
    "wrong_ans_dict = {}\n",
    "for i in range(len(answers)):\n",
    "    if Y_test[i]!=answers[i]:\n",
    "        if Y_test[i] not in wrong_ans_dict:\n",
    "            wrong_ans_dict[Y_test[i]] = 1\n",
    "        else:\n",
    "            wrong_ans_dict[Y_test[i]] += 1 \n",
    "    else:\n",
    "        correct_count +=1\n",
    "\n",
    "print \"Accuracy:\"+ str(round(correct_count/len(Y_test),2)*100)       \n",
    "print wrong_ans_dict"
   ]
  },
  {
   "cell_type": "code",
   "execution_count": null,
   "metadata": {
    "collapsed": true
   },
   "outputs": [],
   "source": []
  }
 ],
 "metadata": {
  "kernelspec": {
   "display_name": "Python 2",
   "language": "python",
   "name": "python2"
  },
  "language_info": {
   "codemirror_mode": {
    "name": "ipython",
    "version": 2
   },
   "file_extension": ".py",
   "mimetype": "text/x-python",
   "name": "python",
   "nbconvert_exporter": "python",
   "pygments_lexer": "ipython2",
   "version": "2.7.13"
  }
 },
 "nbformat": 4,
 "nbformat_minor": 2
}
