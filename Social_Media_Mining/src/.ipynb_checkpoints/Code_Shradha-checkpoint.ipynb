{
 "cells": [
  {
   "cell_type": "code",
   "execution_count": 2,
   "metadata": {
    "collapsed": true
   },
   "outputs": [],
   "source": [
    "import pandas as pd\n",
    "import sklearn"
   ]
  },
  {
   "cell_type": "code",
   "execution_count": 3,
   "metadata": {},
   "outputs": [
    {
     "data": {
      "text/plain": [
       "array(['Tweet', 'Category'], dtype=object)"
      ]
     },
     "execution_count": 3,
     "metadata": {},
     "output_type": "execute_result"
    }
   ],
   "source": [
    "data = pd.read_csv(\"../data/final_data.csv\")\n",
    "data.columns.values"
   ]
  },
  {
   "cell_type": "code",
   "execution_count": 4,
   "metadata": {},
   "outputs": [
    {
     "name": "stdout",
     "output_type": "stream",
     "text": [
      "(10408, 27599)\n",
      "(10408,)\n"
     ]
    },
    {
     "name": "stderr",
     "output_type": "stream",
     "text": [
      "/home/manoj/anaconda2/lib/python2.7/site-packages/sklearn/feature_extraction/text.py:1059: FutureWarning: Conversion of the second argument of issubdtype from `float` to `np.floating` is deprecated. In future, it will be treated as `np.float64 == np.dtype(float).type`.\n",
      "  if hasattr(X, 'dtype') and np.issubdtype(X.dtype, np.float):\n"
     ]
    }
   ],
   "source": [
    "#### TF-IDF Vectorizer #####\n",
    "\n",
    "from sklearn.feature_extraction.text import TfidfVectorizer\n",
    "\n",
    "tf = TfidfVectorizer(analyzer='word',lowercase=True, min_df = 0.0,max_df = 0.999, stop_words = 'english')\n",
    "X =  tf.fit_transform(data[\"Tweet\"])\n",
    "y = data[\"Category\"]\n",
    "print X.shape\n",
    "print y.shape"
   ]
  },
  {
   "cell_type": "code",
   "execution_count": 5,
   "metadata": {},
   "outputs": [
    {
     "name": "stdout",
     "output_type": "stream",
     "text": [
      "{'Politics': 2733, 'Entertainment': 2459, 'Technology': 2726, 'Sports': 2490}\n"
     ]
    }
   ],
   "source": [
    "#This code gives the class distribution\n",
    "#i.e the number of samples in each class\n",
    "\n",
    "classes = list(set(y))\n",
    "class_count = {}\n",
    "for i in classes:\n",
    "    class_count[i] = sum(y==i)\n",
    "print class_count"
   ]
  },
  {
   "cell_type": "code",
   "execution_count": 6,
   "metadata": {
    "collapsed": true
   },
   "outputs": [],
   "source": [
    "def accuracy(actual, predicted):\n",
    "    correct_count = 0.0\n",
    "    class_wise_accuracy = {}\n",
    "    \n",
    "    for i in range(len(actual)):\n",
    "        \n",
    "        if predicted[i]==actual[i]:\n",
    "            if predicted[i] not in class_wise_accuracy:\n",
    "                class_wise_accuracy[predicted[i]] = 1\n",
    "            else:\n",
    "                class_wise_accuracy[predicted[i]] += 1 \n",
    "            \n",
    "            correct_count +=1\n",
    "    \n",
    "    for i in class_wise_accuracy:\n",
    "        class_wise_accuracy[i] = round(float(class_wise_accuracy[i])/float(class_count[i]) , 2) * 100\n",
    "        \n",
    "    print correct_count/len(actual)\n",
    "    print class_wise_accuracy"
   ]
  },
  {
   "cell_type": "code",
   "execution_count": 7,
   "metadata": {},
   "outputs": [
    {
     "name": "stdout",
     "output_type": "stream",
     "text": [
      "0.638355111453\n",
      "{'Politics': 74.0, 'Sports': 50.0, 'Technology': 77.0, 'Entertainment': 52.0}\n"
     ]
    }
   ],
   "source": [
    "##### Logistic Regression ######\n",
    "from sklearn.linear_model import LogisticRegression\n",
    "from sklearn.model_selection import cross_val_predict\n",
    "logreg=LogisticRegression()\n",
    "\n",
    "predicted = cross_val_predict(logreg, X, y, cv=5)\n",
    "accuracy(y, predicted)"
   ]
  },
  {
   "cell_type": "code",
   "execution_count": 43,
   "metadata": {},
   "outputs": [
    {
     "name": "stdout",
     "output_type": "stream",
     "text": [
      "0.540353574174\n",
      "{'Politics': 60.0, 'Sports': 56.99999999999999, 'Technology': 63.0, 'Entertainment': 34.0}\n"
     ]
    }
   ],
   "source": [
    "##### Naive Bayes ######\n",
    "from sklearn.naive_bayes import GaussianNB\n",
    "\n",
    "nb = GaussianNB()\n",
    "predicted = cross_val_predict(nb, X.toarray(), y, cv=5)\n",
    "accuracy(y, predicted)"
   ]
  },
  {
   "cell_type": "code",
   "execution_count": null,
   "metadata": {
    "collapsed": true
   },
   "outputs": [],
   "source": [
    "##### Random Forest ######\n",
    "from sklearn.ensemble import RandomForestClassifier\n",
    "\n",
    "rf = RandomForestClassifier(n_estimators=70)\n",
    "predicted = cross_val_predict(rf, X.toarray(), y, cv=5)\n",
    "accuracy(y, predicted)"
   ]
  }
 ],
 "metadata": {
  "kernelspec": {
   "display_name": "Python 2",
   "language": "python",
   "name": "python2"
  },
  "language_info": {
   "codemirror_mode": {
    "name": "ipython",
    "version": 2
   },
   "file_extension": ".py",
   "mimetype": "text/x-python",
   "name": "python",
   "nbconvert_exporter": "python",
   "pygments_lexer": "ipython2",
   "version": "2.7.13"
  }
 },
 "nbformat": 4,
 "nbformat_minor": 2
}
